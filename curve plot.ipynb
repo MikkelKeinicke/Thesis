{
 "cells": [
  {
   "cell_type": "code",
   "execution_count": 1,
   "metadata": {},
   "outputs": [],
   "source": [
    "import numpy as np\n",
    "import os\n",
    "from scipy.stats import norm\n",
    "import math\n",
    "import scipy.optimize as opt\n",
    "import pandas as pd\n",
    "import matplotlib.pyplot as plt\n",
    "import matplotlib\n",
    "matplotlib.use(\"pgf\")\n",
    "matplotlib.rcParams.update({\n",
    "    \"pgf.texsystem\": \"pdflatex\",\n",
    "    'font.family': 'serif',\n",
    "    'text.usetex': True,\n",
    "    'pgf.rcfonts': False,\n",
    "})\n",
    "from scipy.interpolate import interp1d\n",
    "from pandas.tseries.offsets import DateOffset\n",
    "from dateutil.relativedelta import relativedelta\n",
    "from scipy.optimize import fsolve, root\n",
    "import datetime\n",
    "import matplotlib.ticker as mtick \n",
    "import datetime\n",
    "import statsmodels.api as sm"
   ]
  },
  {
   "cell_type": "code",
   "execution_count": null,
   "metadata": {},
   "outputs": [],
   "source": [
    "# latex_width = 6.69423 inches\n",
    "w = 6.69423 * 9/10\n",
    "golden_ratio = (5**.5 - 1) / 2\n",
    "h = w * golden_ratio\n",
    "h"
   ]
  },
  {
   "cell_type": "code",
   "execution_count": 10,
   "metadata": {},
   "outputs": [
    {
     "name": "stderr",
     "output_type": "stream",
     "text": [
      "C:\\Users\\Mikkel\\AppData\\Local\\Temp\\ipykernel_5272\\3518476706.py:48: UserWarning: Matplotlib is currently using pgf, which is a non-GUI backend, so cannot show the figure.\n",
      "  plt.show()\n"
     ]
    }
   ],
   "source": [
    "maturities = np.array([0, 1,2,3,5,7,10,12,15,20,25])\n",
    "swap_rates = np.array([0.042, 0.042, 0.043, 0.047, 0.054, 0.057, 0.06, 0.061, 0.059, 0.056, 0.0555])\n",
    "\n",
    "maturities_2 = np.array([0,\t0.99,1,1.99,2,2.99,3,3.99,5,6.99,7,9.99,10,11.99,12,14.99,15,19.99,20,24.99])\n",
    "forw_flat = np.array([0.042,0.042,0.04400096,0.04400096,0.05504608,0.05504608,0.064587848,0.064587848,0.064537411,0.064537411,0.067033154,0.067033154,0.066014169,0.066014169,0.051037629,0.051037629,0.047050895,0.047050895,0.053502366,0.053502366])\n",
    "\n",
    "delta = 0.01\n",
    "\n",
    "def piecewise_linear(T, swap_rates):\n",
    "    S = interp1d(maturities, \n",
    "                 swap_rates, \n",
    "                 kind='linear', \n",
    "                 fill_value='extrapolate')\n",
    "    return S(T)\n",
    "\n",
    "def disc_factor(T, swap_rates):\n",
    "    return ((1 + piecewise_linear(T, swap_rates)) ** (-T))\n",
    "\n",
    "def forw_rate_piecewise_linear(T, swap_rates):\n",
    "    return ((disc_factor(T, swap_rates) / disc_factor(T+delta, swap_rates)) ** (1 / delta) - 1)\n",
    "\n",
    "ts = pd.DataFrame(np.arange(0,25 + delta, delta))\n",
    "curve = ts.copy()\n",
    "forw_1 = ts.copy()\n",
    "\n",
    "for i in range(len(ts)):\n",
    "    T = ts.iloc[i]\n",
    "    curve.iloc[i] = piecewise_linear(T, swap_rates)\n",
    "    forw_1.iloc[i] = forw_rate_piecewise_linear(T,swap_rates)\n",
    "\n",
    "samlet = pd.concat([ts, curve], axis = 1)\n",
    "samlet_2 = pd.concat([ts,forw_1], axis = 1)\n",
    "\n",
    "fig, ax = plt.subplots(1,1, figsize=(w,h))\n",
    "\n",
    "ax.set_xlim(0, 25)\n",
    "ax.set_ylim(0.03,0.08)\n",
    "ax.set_yticks(np.arange(0.03, 0.09, 0.01))\n",
    "ax.grid(ls = (0,(1,2)))\n",
    "ax.yaxis.set_major_formatter(mtick.PercentFormatter(1, decimals = 0))\n",
    "plt.plot(samlet.iloc[:,0], samlet.iloc[:,1], label = 'Piecewise Linear Yield Curve', color ='r')\n",
    "plt.plot(maturities_2, forw_flat, label = 'Piecewise Flat Forward Curve', color='g')\n",
    "plt.plot(samlet_2.iloc[:,0], samlet_2.iloc[:,1], label = 'Piecewise Linear Forward Curve', color='b')\n",
    "plt.xlabel('T (Years)')\n",
    "plt.legend(loc = 'upper right',frameon=False,fontsize=11)\n",
    "fig.tight_layout()\n",
    "plt.savefig('C:/Users/Mikkel/OneDrive/CBS/CBS - FIN/THESIS/Main/python/billeder/bootstrapped_curves.pgf')\n",
    "plt.show()"
   ]
  },
  {
   "cell_type": "code",
   "execution_count": 11,
   "metadata": {},
   "outputs": [
    {
     "name": "stderr",
     "output_type": "stream",
     "text": [
      "C:\\Users\\Mikkel\\AppData\\Local\\Temp\\ipykernel_5272\\2192763422.py:46: UserWarning: Matplotlib is currently using pgf, which is a non-GUI backend, so cannot show the figure.\n",
      "  plt.show()\n"
     ]
    }
   ],
   "source": [
    "# cubic spline\n",
    "maturities = np.array([0, 1,2,3,5,7,10,12,15,20,25])\n",
    "swap_rates = np.array([0.042, 0.042, 0.043, 0.047, 0.054, 0.057, 0.06, 0.061, 0.059, 0.056, 0.0555])\n",
    "\n",
    "delta = 0.01\n",
    "\n",
    "def cubspline_curve(T, swap_rates):\n",
    "    S = interp1d(maturities, \n",
    "                 swap_rates, \n",
    "                 kind='cubic', \n",
    "                 fill_value='extrapolate')\n",
    "    return S(T)\n",
    "\n",
    "def disc_factor(T, swap_rates):\n",
    "    return (np.exp(- cubspline_curve(T, swap_rates) * T))\n",
    "\n",
    "def forw_rate(T, swap_rates):\n",
    "    return (disc_factor(T, swap_rates) / disc_factor(T+delta, swap_rates) - 1) / delta\n",
    "\n",
    "ts = pd.DataFrame(np.arange(0,25 + delta, delta))\n",
    "curve = ts.copy()\n",
    "forw = ts.copy()\n",
    "\n",
    "for i in range(len(ts)):\n",
    "    date = datetime.date(2023,1,4)\n",
    "    T = ts.iloc[i]\n",
    "    curve.iloc[i] = cubspline_curve(T, swap_rates)\n",
    "    forw.iloc[i] = forw_rate(T, swap_rates)\n",
    "\n",
    "samlet = pd.concat([ts, curve], axis = 1)\n",
    "samlet_2 = pd.concat([ts,forw], axis = 1)\n",
    "\n",
    "fig, ax = plt.subplots(1,1, figsize=(w,h))\n",
    "\n",
    "ax.set_xlim(0, 25)\n",
    "ax.set_ylim(0.03,0.08)\n",
    "ax.set_yticks(np.arange(0.03, 0.09, 0.01))\n",
    "ax.grid(ls = (0,(1,2)))\n",
    "ax.yaxis.set_major_formatter(mtick.PercentFormatter(1, decimals = 0))\n",
    "plt.plot(samlet.iloc[:,0], samlet.iloc[:,1], label = 'Yield Curve', color = 'r')\n",
    "plt.plot(samlet_2.iloc[:,0], samlet_2.iloc[:,1], label = 'Forward Curve', color = 'b')\n",
    "plt.xlabel('T (Years)')\n",
    "plt.legend(bbox_to_anchor=(1.005, 0.96),frameon=False,fontsize=11)\n",
    "fig.tight_layout()\n",
    "plt.savefig('C:/Users/Mikkel/OneDrive/CBS/CBS - FIN/THESIS/Main/python/billeder/cubic_spline_curves.pgf')\n",
    "plt.show()"
   ]
  }
 ],
 "metadata": {
  "kernelspec": {
   "display_name": "Python 3",
   "language": "python",
   "name": "python3"
  },
  "language_info": {
   "codemirror_mode": {
    "name": "ipython",
    "version": 3
   },
   "file_extension": ".py",
   "mimetype": "text/x-python",
   "name": "python",
   "nbconvert_exporter": "python",
   "pygments_lexer": "ipython3",
   "version": "3.9.7"
  }
 },
 "nbformat": 4,
 "nbformat_minor": 2
}
