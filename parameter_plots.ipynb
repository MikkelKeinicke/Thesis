{
 "cells": [
  {
   "cell_type": "code",
   "execution_count": 36,
   "metadata": {},
   "outputs": [],
   "source": [
    "import numpy as np\n",
    "import os\n",
    "from scipy.stats import norm\n",
    "import math\n",
    "import scipy.optimize as opt\n",
    "import pandas as pd\n",
    "import matplotlib.pyplot as plt\n",
    "import matplotlib\n",
    "matplotlib.use(\"pgf\")\n",
    "matplotlib.rcParams.update({\n",
    "    \"pgf.texsystem\": \"pdflatex\",\n",
    "    'font.family': 'serif',\n",
    "    'text.usetex': True,\n",
    "    'pgf.rcfonts': False,\n",
    "})\n",
    "\n",
    "from scipy.interpolate import interp1d\n",
    "from pandas.tseries.offsets import DateOffset\n",
    "from dateutil.relativedelta import relativedelta\n",
    "from scipy.optimize import fsolve, root\n",
    "import datetime\n",
    "\n",
    "from numpy import sqrt, log, exp, inf, pi, zeros\n",
    "import datetime\n",
    "from scipy.integrate import quad"
   ]
  },
  {
   "cell_type": "markdown",
   "metadata": {},
   "source": [
    "## General functions"
   ]
  },
  {
   "cell_type": "code",
   "execution_count": 7,
   "metadata": {},
   "outputs": [],
   "source": [
    "def roundup(x):\n",
    "    return int(math.ceil(x / 10.0)) * 10\n",
    "\n",
    "def rounddown(x):\n",
    "    return math.floor(x/10) * 10\n",
    "\n",
    "def trap_integration(xmin, xmax, N):\n",
    "    # Computes integration points and weights for trapezoid scheme\n",
    "    # integrates from xmin to xmax with N integration points\n",
    "    uv = np.linspace(xmin, xmax, N)\n",
    "    wgtv = np.ones(N)\n",
    "    wgtv[[0, N - 1]] = 1 / 2\n",
    "    wgtv = wgtv * (xmax - xmin) / (N - 1)\n",
    "    return uv, wgtv"
   ]
  },
  {
   "cell_type": "code",
   "execution_count": 4,
   "metadata": {},
   "outputs": [],
   "source": [
    "# curve data\n",
    "os.chdir('C:/Users/Mikkel/OneDrive/CBS/CBS - FIN/THESIS/Main/data 13 11/')\n",
    "EUSA = pd.read_excel('EUSA_data.xlsx')\n",
    "\n",
    "tau_floating_leg = 0.5\n",
    "\n",
    "# change dataframe layout\n",
    "index = EUSA['Dates'].copy()\n",
    "EUSA = pd.melt(EUSA.reset_index(),\n",
    "               id_vars=['Dates'],\n",
    "               value_vars=['6M','1Y', '2Y', '3Y','4Y','5Y', '6Y','7Y','8Y','9Y', '10Y', '12Y', '15Y', '20Y', '25Y','30Y'],\n",
    "               var_name='Maturity', value_name='Spot rate').set_index(['Dates'])\n",
    "EUSA.name = 'EUSA'\n",
    "\n",
    "# convert strings to float\n",
    "def maturity_convert(Maturity):\n",
    "    if Maturity[-1] == 'M':\n",
    "        MaturityInYear = float(Maturity[:-1]) / 12  # if 6M -> 6/12\n",
    "    else:\n",
    "        MaturityInYear = float(Maturity[:-1])       # if xY -> float(x)\n",
    "    return MaturityInYear\n",
    "\n",
    "EUSA['Maturity (years)'] = EUSA['Maturity'].apply(lambda x: maturity_convert(x))\n",
    "\n",
    "# change % to decimal\n",
    "EUSA['Spot rate (decimal)'] = EUSA['Spot rate'].apply(lambda x: x / 100)\n",
    "\n",
    "def cubspline_curve(date, T, df_curve):\n",
    "    S = interp1d(df_curve['Maturity (years)'][str(date)], \n",
    "                 df_curve['Spot rate (decimal)'][str(date)], \n",
    "                 kind='cubic', \n",
    "                 fill_value='extrapolate')\n",
    "    return S(T)\n",
    "\n",
    "# er EUSA quoted som cc eller diskret rente?\n",
    "def disc_factor(date, T, df_curve = EUSA):\n",
    "    return ((1 + cubspline_curve(date, T, df_curve)) ** (-T))\n",
    "\n",
    "def payment_schedule(date, expiry, tenor, delta=tau_floating_leg):\n",
    "    unadj_dates = []\n",
    "    adj_dates = []\n",
    "\n",
    "    t_0 = pd.Timestamp(date).date()\n",
    "    t_m = (t_0 + DateOffset(months=(expiry * 12)) + pd.tseries.offsets.BusinessDay(0)).date()\n",
    "    t_n = (t_m + DateOffset(months=(tenor * 12))).date()    #unadjusted for business days\n",
    "    t_m_copy = t_m\n",
    "\n",
    "    delta_months = relativedelta(months=+(delta * 12))\n",
    "\n",
    "    while t_m_copy < t_n:\n",
    "        unadj_dates.append(t_m_copy)\n",
    "        t_m_copy = t_m_copy + delta_months\n",
    "\n",
    "    unadj_dates.append(t_m_copy)\n",
    "\n",
    "    for date in unadj_dates:\n",
    "        adj_dates.append((date + pd.tseries.offsets.BusinessDay(0)).date())\n",
    "    \n",
    "    return adj_dates\n",
    "\n",
    "def coverage(date, expiry, tenor, delta=tau_floating_leg):\n",
    "    coverage = []\n",
    "    dates = []\n",
    "\n",
    "    adj_dates = payment_schedule(date, expiry, tenor, delta)\n",
    "    t_0 = pd.Timestamp(date).date()\n",
    "    dates_roll = expiry + delta\n",
    "\n",
    "    for i in range(1, len(adj_dates)):\n",
    "        coverage.append(1 / 360 * (\n",
    "            360 * (adj_dates[i].year - adj_dates[i - 1].year)\n",
    "            + 30 * (adj_dates[i].month - adj_dates[i - 1].month)\n",
    "            + min(30, adj_dates[i].day) \n",
    "            - min(30, adj_dates[i - 1].day)\n",
    "            )\n",
    "        )\n",
    "        dates.append(dates_roll)\n",
    "        dates_roll = dates_roll + coverage[i - 1]\n",
    "\n",
    "    # coverage[0] = coverage\n",
    "    # coverage[1] = tidspunkt for betaling\n",
    "    return coverage, dates\n",
    "\n",
    "def annuity_func(date, expiry, tenor, delta=tau_floating_leg, df_curve=EUSA):\n",
    "    ann = 0\n",
    "    cov, dates = coverage(date, expiry, tenor, delta)\n",
    "    for i in range(len(dates)):\n",
    "        ann = ann + disc_factor(date, dates[i], df_curve) * cov[i]\n",
    "    return ann\n",
    "\n",
    "def bachelier(F, K, sigma_normal, date, expiry, tenor, delta = tau_floating_leg, t = 0):\n",
    "    d = (F - K) / (sigma_normal * np.sqrt(expiry - t))\n",
    "    return annuity_func(date, expiry, tenor, delta) * sigma_normal * np.sqrt(expiry - t) * (d * norm.cdf(d) + norm.pdf(d))"
   ]
  },
  {
   "cell_type": "markdown",
   "metadata": {},
   "source": [
    "## Payer function"
   ]
  },
  {
   "cell_type": "code",
   "execution_count": 161,
   "metadata": {},
   "outputs": [],
   "source": [
    "def char_func(u, T, theta, eta, z_0, lambd, b):\n",
    "    v = 1/2 * (lambd * b)**2 * u * (u - 1)\n",
    "\n",
    "    gamma = np.sqrt(theta**2 - 2 * eta**2 * v)\n",
    "    A = 1 / eta**2 * theta * z_0 * (2 * np.log(2 * gamma / (theta + gamma - np.exp(-gamma * T)*(theta - gamma))) + (theta - gamma) * T)\n",
    "    B = 2 * v * (1 - np.exp(-gamma * T)) / ((theta + gamma) * (1 - np.exp(-gamma * T)) + 2 * gamma * np.exp(-gamma * T))\n",
    "    return np.exp(A + B * z_0)\n",
    "\n",
    "def payer_price_SV(S, K, L, theta, eta, lambd, b, z_0, date, expiry, tenor):\n",
    "    xmin = 0\n",
    "    xmax = 2000\n",
    "    int_points = 10000\n",
    "    [u, wgt] = trap_integration(xmin, xmax, int_points)\n",
    "    \n",
    "    S_prime = b * S + (1 - b) * L\n",
    "    K_prime = b * K + (1 - b) * L\n",
    "\n",
    "    integrand = np.real((np.exp(-(1/2 + 1j * u) * np.log(K_prime / S_prime)) * char_func(1/2 + 1j * u, expiry, theta, eta, z_0, lambd, b)) / (u**2 + 1/4))\n",
    "    integral = sum(wgt * integrand)\n",
    "\n",
    "    annuity = annuity_func(date, expiry, tenor, delta=tau_floating_leg, df_curve=EUSA)\n",
    "\n",
    "    return annuity / b * (S_prime - K_prime / np.pi * integral)\n",
    "\n",
    "date = datetime.date(2023, 9, 18)\n",
    "expiry = 2\n",
    "tenor = 5\n",
    "tau_floating_leg = 0.5\n",
    "z_0 = 1\n",
    "\n",
    "S = 0.032\n",
    "L = S"
   ]
  },
  {
   "cell_type": "code",
   "execution_count": 160,
   "metadata": {},
   "outputs": [
    {
     "data": {
      "text/plain": [
       "3.3511819514924595"
      ]
     },
     "execution_count": 160,
     "metadata": {},
     "output_type": "execute_result"
    }
   ],
   "source": [
    "# latex_width = 6.69423 inches\n",
    "# latex_height = \n",
    "w = 6.69423 * 9/10\n",
    "golden_ratio = (5**.5 - 1) / 2\n",
    "h = w * golden_ratio * 9/10\n",
    "h"
   ]
  },
  {
   "cell_type": "markdown",
   "metadata": {},
   "source": [
    "### $\\lambda$"
   ]
  },
  {
   "cell_type": "code",
   "execution_count": 162,
   "metadata": {},
   "outputs": [
    {
     "name": "stderr",
     "output_type": "stream",
     "text": [
      "C:\\Users\\Mikkel\\AppData\\Local\\Temp\\ipykernel_13148\\4135015132.py:37: UserWarning: Matplotlib is currently using pgf, which is a non-GUI backend, so cannot show the figure.\n",
      "  plt.show()\n"
     ]
    }
   ],
   "source": [
    "b = 0.4\n",
    "eta = 1.0\n",
    "theta = 0.75\n",
    "\n",
    "mness = np.arange(0.4, 1.625, 0.025)\n",
    "strikes = mness * S\n",
    "lambds = np.array([0.25, 0.3, 0.35, 0.4])\n",
    "\n",
    "prices = np.empty((len(lambds), len(strikes)))\n",
    "IV = np.empty((len(lambds), len(strikes)))\n",
    "\n",
    "for n in range(len(lambds)):\n",
    "    lambd = lambds[n]\n",
    "\n",
    "    for i in range(len(strikes)):\n",
    "        K = strikes[i]\n",
    "        prices[n,i] = payer_price_SV(S, K, L, theta, eta, lambd, b, z_0, date, expiry, tenor)\n",
    "        \n",
    "        def bachelier_iv(x):\n",
    "            return bachelier(S, K, x, date, expiry, tenor, delta = tau_floating_leg, t = 0) - prices[n,i]\n",
    "        res = fsolve(bachelier_iv, 0.01)\n",
    "        IV[n,i] = res * 10000   # convert to bp\n",
    "\n",
    "fig, ax = plt.subplots(1,1, figsize=(w,h))\n",
    "\n",
    "ax.set_yticks(np.arange(rounddown(min(IV[0,:]))-10, roundup(max(IV[3,:]))+10, 10))\n",
    "ax.set_ylim(rounddown(min(IV[0,:])), roundup(max(IV[3,:])))\n",
    "ax.set_xlim(min(mness), max(mness))\n",
    "ax.set_xlabel('Moneyness, K/S')\n",
    "plt.plot(mness, IV[0,:], color = 'm', label = '$\\\\lambda$ = '+str(lambds[0]))\n",
    "plt.plot(mness, IV[1,:], color = 'g', label = '$\\\\lambda$ = '+str(lambds[1]))\n",
    "plt.plot(mness, IV[2,:], color = 'b', label = '$\\\\lambda$ = '+str(lambds[2]))\n",
    "plt.plot(mness, IV[3,:], color = 'r', label = '$\\\\lambda$ = '+str(lambds[3]))\n",
    "plt.legend(frameon=False, fontsize=11)\n",
    "fig.tight_layout()\n",
    "plt.savefig('C:/Users/Mikkel/OneDrive/CBS/CBS - FIN/THESIS/Main/python/billeder/level_of_vol.pgf', format='pgf')\n",
    "plt.show()"
   ]
  },
  {
   "cell_type": "markdown",
   "metadata": {},
   "source": [
    "### b"
   ]
  },
  {
   "cell_type": "code",
   "execution_count": 157,
   "metadata": {},
   "outputs": [
    {
     "data": {
      "text/plain": [
       "3.165005176409545"
      ]
     },
     "execution_count": 157,
     "metadata": {},
     "output_type": "execute_result"
    }
   ],
   "source": [
    "# latex_width = 6.69423 inches\n",
    "# latex_height = \n",
    "w = 6.69423 * 9/10\n",
    "golden_ratio = (5**.5 - 1) / 2\n",
    "h = w * golden_ratio * 8.5/10\n",
    "h"
   ]
  },
  {
   "cell_type": "code",
   "execution_count": 159,
   "metadata": {},
   "outputs": [
    {
     "name": "stderr",
     "output_type": "stream",
     "text": [
      "C:\\Users\\Mikkel\\AppData\\Local\\Temp\\ipykernel_13148\\451675261.py:37: UserWarning: Matplotlib is currently using pgf, which is a non-GUI backend, so cannot show the figure.\n",
      "  plt.show()\n"
     ]
    }
   ],
   "source": [
    "lambd = 0.35\n",
    "eta = 1.0\n",
    "theta = 0.75\n",
    "\n",
    "mness = np.arange(0.4, 1.625, 0.025)\n",
    "strikes = mness * S\n",
    "bs = np.array([0.2, 0.3, 0.4, 0.5])\n",
    "\n",
    "prices = np.empty((len(bs), len(strikes)))\n",
    "IV = np.empty((len(bs), len(strikes)))\n",
    "\n",
    "for n in range(len(bs)):\n",
    "    b = bs[n]\n",
    "\n",
    "    for i in range(len(strikes)):\n",
    "        K = strikes[i]\n",
    "        prices[n,i] = payer_price_SV(S, K, L, theta, eta, lambd, b, z_0, date, expiry, tenor)\n",
    "        \n",
    "        def bachelier_iv(x):\n",
    "            return bachelier(S, K, x, date, expiry, tenor, delta = tau_floating_leg, t = 0) - prices[n,i]\n",
    "        res = fsolve(bachelier_iv, 0.01)\n",
    "        IV[n,i] = res * 10000   # convert to bp\n",
    "\n",
    "fig, ax = plt.subplots(1,1, figsize=(w,h))\n",
    "\n",
    "ax.set_yticks(np.arange(rounddown(min(IV[0,:]))-10, roundup(max(IV[3,:]))+10, 10))\n",
    "ax.set_ylim(rounddown(min(IV[0,:]))-10, roundup(max(IV[3,:])))\n",
    "ax.set_xlim(min(mness), max(mness))\n",
    "ax.set_xlabel('Moneyness, K/S')\n",
    "plt.plot(mness, IV[0,:], color = 'm', label = '$b$ = '+str(bs[0]))\n",
    "plt.plot(mness, IV[1,:], color = 'g', label = '$b$ = '+str(bs[1]))\n",
    "plt.plot(mness, IV[2,:], color = 'b', label = '$b$ =  '+str(bs[2]))\n",
    "plt.plot(mness, IV[3,:], color = 'r', label = '$b$ = '+str(bs[3]))\n",
    "plt.legend(frameon=False, fontsize=11)\n",
    "fig.tight_layout()\n",
    "plt.savefig('C:/Users/Mikkel/OneDrive/CBS/CBS - FIN/THESIS/Main/python/billeder/skewness.pgf', format='pgf')\n",
    "plt.show()"
   ]
  },
  {
   "cell_type": "markdown",
   "metadata": {},
   "source": [
    "### $\\eta$"
   ]
  },
  {
   "cell_type": "code",
   "execution_count": 158,
   "metadata": {},
   "outputs": [
    {
     "name": "stderr",
     "output_type": "stream",
     "text": [
      "C:\\Users\\Mikkel\\AppData\\Local\\Temp\\ipykernel_13148\\1746483526.py:37: UserWarning: Matplotlib is currently using pgf, which is a non-GUI backend, so cannot show the figure.\n",
      "  plt.show()\n"
     ]
    }
   ],
   "source": [
    "b = 0.4\n",
    "lambd = 0.35\n",
    "theta = 0.75\n",
    "\n",
    "mness = np.arange(0.4, 1.625, 0.025)\n",
    "strikes = mness * S\n",
    "etas = np.array([0.2, 0.8, 1.4, 2.0])\n",
    "\n",
    "prices = np.empty((len(etas), len(strikes)))\n",
    "IV = np.empty((len(etas), len(strikes)))\n",
    "\n",
    "for n in range(len(etas)):\n",
    "    eta = etas[n]\n",
    "\n",
    "    for i in range(len(strikes)):\n",
    "        K = strikes[i]\n",
    "        prices[n,i] = payer_price_SV(S, K, L, theta, eta, lambd, b, z_0, date, expiry, tenor)\n",
    "        \n",
    "        def bachelier_iv(x):\n",
    "            return bachelier(S, K, x, date, expiry, tenor, delta = tau_floating_leg, t = 0) - prices[n,i]\n",
    "        res = fsolve(bachelier_iv, 0.01)\n",
    "        IV[n,i] = res * 10000   # convert to bp\n",
    "\n",
    "fig, ax = plt.subplots(1,1, figsize=(w,h))\n",
    "\n",
    "ax.set_yticks(np.arange(rounddown(min(IV[0,:]))-10, roundup(max(IV[3,:]))+10, 10))\n",
    "ax.set_ylim(rounddown(min(IV[0,:])), roundup(max(IV[3,:])))\n",
    "ax.set_xlim(min(mness), max(mness))\n",
    "ax.set_xlabel('Moneyness, K/S')\n",
    "plt.plot(mness, IV[0,:], color = 'm', label = '$\\\\eta$ = '+str(etas[0]))\n",
    "plt.plot(mness, IV[1,:], color = 'g', label = '$\\\\eta$ = '+str(etas[1]))\n",
    "plt.plot(mness, IV[2,:], color = 'b', label = '$\\\\eta$ = '+str(etas[2]))\n",
    "plt.plot(mness, IV[3,:], color = 'r', label = '$\\\\eta$ = '+str(etas[3]))\n",
    "plt.legend(frameon=False, fontsize=11)\n",
    "fig.tight_layout()\n",
    "plt.savefig('C:/Users/Mikkel/OneDrive/CBS/CBS - FIN/THESIS/Main/python/billeder/vol_of_var.pgf', format='pgf')\n",
    "plt.show()"
   ]
  },
  {
   "cell_type": "markdown",
   "metadata": {},
   "source": [
    "### $\\theta$ 2y5y"
   ]
  },
  {
   "cell_type": "code",
   "execution_count": 120,
   "metadata": {},
   "outputs": [
    {
     "data": {
      "text/plain": [
       "3.1029462513819066"
      ]
     },
     "execution_count": 120,
     "metadata": {},
     "output_type": "execute_result"
    }
   ],
   "source": [
    "# latex_width = 6.69423 inches\n",
    "# latex_height = \n",
    "w = 6.69423 * 5/10\n",
    "golden_ratio = (5**.5 - 1) / 2\n",
    "h = 6.69423 * 3/4 * golden_ratio\n",
    "h"
   ]
  },
  {
   "cell_type": "code",
   "execution_count": 121,
   "metadata": {},
   "outputs": [
    {
     "name": "stderr",
     "output_type": "stream",
     "text": [
      "C:\\Users\\Mikkel\\AppData\\Local\\Temp\\ipykernel_13148\\1469776489.py:40: UserWarning: Matplotlib is currently using pgf, which is a non-GUI backend, so cannot show the figure.\n",
      "  plt.show()\n"
     ]
    }
   ],
   "source": [
    "expiry = 10\n",
    "tenor = 2\n",
    "\n",
    "b = 0.4\n",
    "lambd = 0.35\n",
    "eta = 1.0\n",
    "\n",
    "mness = np.arange(0.4, 1.625, 0.025)\n",
    "strikes = mness * S\n",
    "thetas = np.array([0.1, 0.3, 0.8, 1.5])\n",
    "\n",
    "prices = np.empty((len(thetas), len(strikes)))\n",
    "IV = np.empty((len(thetas), len(strikes)))\n",
    "\n",
    "for n in range(len(thetas)):\n",
    "    theta = thetas[n]\n",
    "\n",
    "    for i in range(len(strikes)):\n",
    "        K = strikes[i]\n",
    "        prices[n,i] = payer_price_SV(S, K, L, theta, eta, lambd, b, z_0, date, expiry, tenor)\n",
    "        \n",
    "        def bachelier_iv(x):\n",
    "            return bachelier(S, K, x, date, expiry, tenor, delta = tau_floating_leg, t = 0) - prices[n,i]\n",
    "        res = fsolve(bachelier_iv, 0.01)\n",
    "        IV[n,i] = res * 10000   # convert to bp\n",
    "\n",
    "fig, ax = plt.subplots(1,1, figsize=(w,h))\n",
    "\n",
    "ax.set_yticks(np.arange(rounddown(min(IV[0,:]))-10, roundup(max(IV[3,:]))+10, 10))\n",
    "ax.set_ylim(rounddown(min(IV[0,:])), roundup(max(IV[3,:])))\n",
    "ax.set_xlim(min(mness), max(mness))\n",
    "ax.set_xlabel('Moneyness, K/S')\n",
    "plt.plot(mness, IV[0,:], color = 'm', label = '$\\\\theta$ = '+str(thetas[0]))\n",
    "plt.plot(mness, IV[1,:], color = 'g', label = '$\\\\theta$ = '+str(thetas[1]))\n",
    "plt.plot(mness, IV[2,:], color = 'b', label = '$\\\\theta$ = '+str(thetas[2]))\n",
    "plt.plot(mness, IV[3,:], color = 'r', label = '$\\\\theta$ = '+str(thetas[3]))\n",
    "plt.legend(frameon=False, fontsize=10)\n",
    "fig.tight_layout()\n",
    "plt.savefig('C:/Users/Mikkel/OneDrive/CBS/CBS - FIN/THESIS/Main/python/billeder/theta_10y5y.pgf', format='pgf')\n",
    "plt.show()"
   ]
  },
  {
   "cell_type": "markdown",
   "metadata": {},
   "source": [
    "### $\\theta$ 0.5y2y"
   ]
  },
  {
   "cell_type": "code",
   "execution_count": 123,
   "metadata": {},
   "outputs": [
    {
     "name": "stderr",
     "output_type": "stream",
     "text": [
      "C:\\Users\\Mikkel\\AppData\\Local\\Temp\\ipykernel_13148\\2874314658.py:40: UserWarning: Matplotlib is currently using pgf, which is a non-GUI backend, so cannot show the figure.\n",
      "  plt.show()\n"
     ]
    }
   ],
   "source": [
    "expiry = 0.5\n",
    "tenor = 2\n",
    "\n",
    "b = 0.4\n",
    "lambd = 0.35\n",
    "eta = 1.0\n",
    "\n",
    "mness = np.arange(0.4, 1.625, 0.025)\n",
    "strikes = mness * S\n",
    "thetas = np.array([0.1, 0.3, 0.8, 1.5])\n",
    "\n",
    "prices = np.empty((len(thetas), len(strikes)))\n",
    "IV = np.empty((len(thetas), len(strikes)))\n",
    "\n",
    "for n in range(len(thetas)):\n",
    "    theta = thetas[n]\n",
    "\n",
    "    for i in range(len(strikes)):\n",
    "        K = strikes[i]\n",
    "        prices[n,i] = payer_price_SV(S, K, L, theta, eta, lambd, b, z_0, date, expiry, tenor)\n",
    "        \n",
    "        def bachelier_iv(x):\n",
    "            return bachelier(S, K, x, date, expiry, tenor, delta = tau_floating_leg, t = 0) - prices[n,i]\n",
    "        res = fsolve(bachelier_iv, 0.01)\n",
    "        IV[n,i] = res * 10000   # convert to bp\n",
    "\n",
    "fig, ax = plt.subplots(1,1, figsize=(w,h))\n",
    "\n",
    "ax.set_yticks(np.arange(rounddown(min(IV[0,:]))-10, roundup(max(IV[3,:]))+10, 10))\n",
    "ax.set_ylim(rounddown(min(IV[0,:])), roundup(max(IV[3,:])))\n",
    "ax.set_xlim(min(mness), max(mness))\n",
    "ax.set_xlabel('Moneyness, K/S')\n",
    "plt.plot(mness, IV[0,:], color = 'm', label = '$\\\\theta$ = '+str(thetas[0]))\n",
    "plt.plot(mness, IV[1,:], color = 'g', label = '$\\\\theta$ = '+str(thetas[1]))\n",
    "plt.plot(mness, IV[2,:], color = 'b', label = '$\\\\theta$ = '+str(thetas[2]))\n",
    "plt.plot(mness, IV[3,:], color = 'r', label = '$\\\\theta$ = '+str(thetas[3]))\n",
    "plt.legend(frameon=False, fontsize=10)\n",
    "fig.tight_layout()\n",
    "plt.savefig('C:/Users/Mikkel/OneDrive/CBS/CBS - FIN/THESIS/Main/python/billeder/theta_05y5y.pgf', format='pgf')\n",
    "plt.show()"
   ]
  }
 ],
 "metadata": {
  "kernelspec": {
   "display_name": "Python 3",
   "language": "python",
   "name": "python3"
  },
  "language_info": {
   "codemirror_mode": {
    "name": "ipython",
    "version": 3
   },
   "file_extension": ".py",
   "mimetype": "text/x-python",
   "name": "python",
   "nbconvert_exporter": "python",
   "pygments_lexer": "ipython3",
   "version": "3.9.7"
  },
  "orig_nbformat": 4
 },
 "nbformat": 4,
 "nbformat_minor": 2
}
