{
 "cells": [
  {
   "cell_type": "code",
   "execution_count": 1,
   "metadata": {},
   "outputs": [],
   "source": [
    "import numpy as np\n",
    "from scipy.stats import norm\n",
    "import matplotlib.pyplot as plt\n",
    "import time\n",
    "from decimal import Decimal"
   ]
  },
  {
   "cell_type": "code",
   "execution_count": null,
   "metadata": {},
   "outputs": [],
   "source": [
    "import matplotlib\n",
    "matplotlib.use(\"pgf\")\n",
    "matplotlib.rcParams.update({\n",
    "    \"pgf.texsystem\": \"pdflatex\",\n",
    "    'font.family': 'serif',\n",
    "    'text.usetex': True,\n",
    "    'pgf.rcfonts': False,\n",
    "})"
   ]
  },
  {
   "cell_type": "code",
   "execution_count": 2,
   "metadata": {},
   "outputs": [],
   "source": [
    "def trap_integration(xmin, xmax, N):\n",
    "    # Computes integration points and weights for trapezoid scheme\n",
    "    # integrates from xmin to xmax with N integration points\n",
    "    uv = np.linspace(xmin, xmax, N)\n",
    "    wgtv = np.ones(N)\n",
    "    wgtv[[0, N - 1]] = 1 / 2\n",
    "    wgtv = wgtv * (xmax - xmin) / (N - 1)\n",
    "    return uv, wgtv"
   ]
  },
  {
   "cell_type": "markdown",
   "metadata": {},
   "source": [
    "### Define functions WITH control variate"
   ]
  },
  {
   "cell_type": "code",
   "execution_count": 3,
   "metadata": {},
   "outputs": [],
   "source": [
    "def char_func_cv(v, u, T, theta, eta, z_0):\n",
    "    gamma = np.sqrt(theta**2 - 2 * eta**2 * v)\n",
    "    A = 1 / eta**2 * theta * z_0 * (2 * np.log(2 * gamma / (theta + gamma - np.exp(-gamma * T)*(theta - gamma))) + (theta - gamma) * T)\n",
    "    B = 2 * v * (1 - np.exp(-gamma * T)) / ((theta + gamma) * (1 - np.exp(-gamma * T)) + 2 * gamma * np.exp(-gamma * T))\n",
    "    return np.exp(A + B * z_0)\n",
    "\n",
    "def q_func_cv(u, T, theta, eta, z_0, lambd, b):\n",
    "    return char_func_cv(1/2 * (lambd * b)**2 * u * (u - 1), u, T, theta, eta, z_0) - np.exp(1/2 * lambd**2 * b**2 * z_0 * T * u * (u - 1))"
   ]
  },
  {
   "cell_type": "markdown",
   "metadata": {},
   "source": [
    "### Define functions WITHOUT control variate"
   ]
  },
  {
   "cell_type": "code",
   "execution_count": 4,
   "metadata": {},
   "outputs": [],
   "source": [
    "def char_func_nocv(v, u, T, theta, eta, z_0):\n",
    "    gamma = np.sqrt(theta**2 - 2 * eta**2 * v)\n",
    "    A = 1 / eta**2 * theta * z_0 * (2 * np.log(2 * gamma / (theta + gamma - np.exp(-gamma * T)*(theta - gamma))) + (theta - gamma) * T)\n",
    "    B = 2 * v * (1 - np.exp(-gamma * T)) / ((theta + gamma) * (1 - np.exp(-gamma * T)) + 2 * gamma * np.exp(-gamma * T))\n",
    "    return np.exp(A + B * z_0)\n",
    "\n",
    "def q_func_nocv(u, T, theta, eta, z_0, lambd, b):\n",
    "    return char_func_nocv(1/2 * (lambd * b)**2 * u * (u - 1), u, T, theta, eta, z_0)"
   ]
  },
  {
   "cell_type": "markdown",
   "metadata": {},
   "source": [
    "### Set inputs"
   ]
  },
  {
   "cell_type": "code",
   "execution_count": 14,
   "metadata": {},
   "outputs": [],
   "source": [
    "# inputs\n",
    "b = 0.5\n",
    "lambd = 0.8\n",
    "eta = 0.5\n",
    "theta = 0.5\n",
    "z_0 = 1\n",
    "\n",
    "expiry = 1\n",
    "tenor = 5\n",
    "\n",
    "S = 0.05\n",
    "L = S\n",
    "mness = 0 / 10000\n",
    "K = S + mness\n",
    "\n",
    "S_prime = b * S + (1 - b) * L\n",
    "K_prime = b * K + (1 - b) * L\n",
    "\n",
    "xmin = 0\n",
    "xmax = 20\n",
    "int_points = 10000\n",
    "[omega, wgt] = trap_integration(xmin, xmax, int_points)"
   ]
  },
  {
   "cell_type": "markdown",
   "metadata": {},
   "source": [
    "### Compare integrals"
   ]
  },
  {
   "cell_type": "code",
   "execution_count": 15,
   "metadata": {},
   "outputs": [
    {
     "name": "stdout",
     "output_type": "stream",
     "text": [
      "Computational time with control variate =  0.0080 seconds\n",
      "Computational time without control variate =  0.0060 seconds \n",
      "\n",
      " Integral with control variate =  0.01363961235398867 \n",
      " Integral without control variate =  2.070505812358024\n",
      "\n",
      " Residual with control variate =  4.60E-9\n",
      " Residual with no control variate =  -0.06198789406456906\n"
     ]
    }
   ],
   "source": [
    "xmin = 0\n",
    "xmax = 40\n",
    "int_points_2 = 50\n",
    "[omega_2, wgt_2] = trap_integration(xmin, xmax, int_points_2)\n",
    "\n",
    "# with control variate\n",
    "start_time_cv = time.time()\n",
    "\n",
    "integrand_cv_1 = np.real((np.exp((1/2 + 1j * omega) * np.log(S_prime / K_prime)) * q_func_cv(1/2 + 1j * omega, expiry, theta, eta, z_0, lambd, b)) / (omega**2 + 1/4))\n",
    "integral_cv_1 = sum(wgt * integrand_cv_1)\n",
    "\n",
    "stop_time_cv = time.time()\n",
    "time_cv = stop_time_cv - start_time_cv\n",
    "print('Computational time with control variate = ', '%.4f' % time_cv, 'seconds')\n",
    "\n",
    "integrand_cv_2 = np.real((np.exp((1/2 + 1j * omega_2) * np.log(S_prime / K_prime)) * q_func_cv(1/2 + 1j * omega_2, expiry, theta, eta, z_0, lambd, b)) / (omega_2**2 + 1/4))\n",
    "integral_cv_2 = sum(wgt_2 * integrand_cv_2)\n",
    "\n",
    "# without control variate\n",
    "start_time_cv = time.time()\n",
    "\n",
    "integrand_nocv_1 = np.real((np.exp((1/2 + 1j * omega) * np.log(S_prime / K_prime)) * q_func_nocv(1/2 + 1j * omega, expiry, theta, eta, z_0, lambd, b)) / (omega**2 + 1/4))\n",
    "integral_nocv_1 = sum(wgt * integrand_nocv_1)\n",
    "\n",
    "stop_time_cv = time.time()\n",
    "time_cv = stop_time_cv - start_time_cv\n",
    "print('Computational time without control variate = ', '%.4f' % time_cv, 'seconds', '\\n')\n",
    "\n",
    "integrand_nocv_2 = np.real((np.exp((1/2 + 1j * omega_2) * np.log(S_prime / K_prime)) * q_func_nocv(1/2 + 1j * omega_2, expiry, theta, eta, z_0, lambd, b)) / (omega_2**2 + 1/4))\n",
    "integral_nocv_2 = sum(wgt_2 * integrand_nocv_2)\n",
    "\n",
    "residual_cv = integral_cv_1 / integral_cv_2 - 1\n",
    "residual_nocv = integral_nocv_1 / integral_nocv_2 - 1\n",
    "\n",
    "print(' Integral with control variate = ', integral_cv_1, \n",
    "      '\\n', 'Integral without control variate = ', integral_nocv_1)\n",
    "\n",
    "print('\\n', 'Residual with control variate = ', \"{:.2E}\".format(Decimal(residual_cv)))\n",
    "print(' Residual with no control variate = ', residual_nocv)"
   ]
  },
  {
   "cell_type": "markdown",
   "metadata": {},
   "source": [
    "### Plots"
   ]
  },
  {
   "cell_type": "code",
   "execution_count": 11,
   "metadata": {},
   "outputs": [
    {
     "data": {
      "text/plain": [
       "3.309809334807367"
      ]
     },
     "execution_count": 11,
     "metadata": {},
     "output_type": "execute_result"
    }
   ],
   "source": [
    "# latex_width = 6.69423 inches\n",
    "# latex_height = \n",
    "w = 6.69423 * 5.2/10\n",
    "golden_ratio = (5**.5 - 1) / 2\n",
    "h = 6.69423 * 8/10 * golden_ratio\n",
    "h"
   ]
  },
  {
   "cell_type": "code",
   "execution_count": 16,
   "metadata": {},
   "outputs": [
    {
     "data": {
      "image/png": "[encoded data removed]",
      "text/plain": [
       "<Figure size 348.1x330.981 with 1 Axes>"
      ]
     },
     "metadata": {},
     "output_type": "display_data"
    },
    {
     "data": {
      "image/png": "[encoded data removed]",
      "text/plain": [
       "<Figure size 348.1x330.981 with 1 Axes>"
      ]
     },
     "metadata": {},
     "output_type": "display_data"
    }
   ],
   "source": [
    "fig, ax = plt.subplots(1,1, figsize=(w,h))\n",
    "\n",
    "# ax.set_yticks(np.arange(0, 0.0010, 0.0001))\n",
    "ax.set_xlim(min(omega), 15)\n",
    "# ax.set_ylim(0, 0.0009)\n",
    "ax.grid(ls = (0,(1,2)))\n",
    "plt.plot(omega, integrand_cv_1, color = 'r', label = '10,000 integration points')\n",
    "plt.plot(omega_2, integrand_cv_2, color = 'b', label = '200 integration points')\n",
    "plt.text(0.435, 0.845, 'Integral residual = '+str(round(residual_cv,4)*100)+'%', fontsize = 8, transform=ax.transAxes) \n",
    "plt.legend(bbox_to_anchor=(0.27,1.02), frameon=False, fontsize=8)\n",
    "fig.tight_layout()\n",
    "# plt.savefig('C:/Users/Mikkel/OneDrive/CBS/CBS - FIN/THESIS/Main/python/billeder/int_cv200.pgf')\n",
    "plt.show()\n",
    "\n",
    "fig, ax = plt.subplots(1,1, figsize=(w,h))\n",
    "\n",
    "ax.set_yticks(np.arange(0, max(integrand_nocv_1)*1.05, 1.0))\n",
    "ax.set_xlim(min(omega), 10)\n",
    "ax.set_ylim(0, 4)\n",
    "ax.grid(ls = (0,(1,2)))\n",
    "plt.plot(omega, integrand_nocv_1, color = 'r', label = '10,000 integration points')\n",
    "plt.plot(omega_2, integrand_nocv_2, color = 'b', label = '200 integration points')\n",
    "plt.text(0.475, 0.82, 'Integral residual = '+str(round(residual_nocv,4)*100)+'%', fontsize = 8, transform=ax.transAxes) \n",
    "plt.legend(bbox_to_anchor=(0.33,1),frameon=False, fontsize=8)\n",
    "fig.tight_layout()\n",
    "# plt.savefig('C:/Users/Mikkel/OneDrive/CBS/CBS - FIN/THESIS/Main/python/billeder/int_nocv200.pgf')\n",
    "plt.show()"
   ]
  },
  {
   "cell_type": "markdown",
   "metadata": {},
   "source": [
    "### Price test (without annuity)"
   ]
  },
  {
   "cell_type": "code",
   "execution_count": 108,
   "metadata": {},
   "outputs": [
    {
     "name": "stdout",
     "output_type": "stream",
     "text": [
      "Price with =  0.015734082869968333\n",
      "Price without =  0.011378713221760234\n"
     ]
    }
   ],
   "source": [
    "# Black 1976 call price in qG model\n",
    "def call_black76(F, T, K, lambd, b, t = 0):\n",
    "    sigma_black = lambd * b     # set volatility as the qG model\n",
    "    d1 = (np.log(F / K) + 1/2 * sigma_black**2 * (T - t)) / (sigma_black * np.sqrt(T - t))\n",
    "    d2 = d1 - sigma_black * np.sqrt(T - t)\n",
    "    return F * norm.cdf(d1) - K * norm.cdf(d2)\n",
    "\n",
    "# price with control variate\n",
    "call_black = call_black76(S_prime, expiry, K_prime, lambd, b, t = 0)\n",
    "price_cv = 1/b * (call_black - K_prime / np.pi * integral_cv_2)\n",
    "\n",
    "# price without control variate\n",
    "price_nocv = 1/b * (S_prime - K_prime / np.pi * integral_nocv_2)\n",
    "\n",
    "print('Price with = ', price_cv)\n",
    "print('Price without = ', price_nocv)"
   ]
  }
 ],
 "metadata": {
  "kernelspec": {
   "display_name": "Python 3",
   "language": "python",
   "name": "python3"
  },
  "language_info": {
   "codemirror_mode": {
    "name": "ipython",
    "version": 3
   },
   "file_extension": ".py",
   "mimetype": "text/x-python",
   "name": "python",
   "nbconvert_exporter": "python",
   "pygments_lexer": "ipython3",
   "version": "3.9.7"
  },
  "orig_nbformat": 4
 },
 "nbformat": 4,
 "nbformat_minor": 2
}
